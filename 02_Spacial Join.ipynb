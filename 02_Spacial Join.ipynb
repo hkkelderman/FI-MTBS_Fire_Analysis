{
 "cells": [
  {
   "cell_type": "markdown",
   "metadata": {},
   "source": [
    "#### Libraries"
   ]
  },
  {
   "cell_type": "code",
   "execution_count": 44,
   "metadata": {
    "scrolled": true
   },
   "outputs": [],
   "source": [
    "import geopandas as gpd\n",
    "import pandas as pd\n",
    "import numpy as np\n",
    "\n",
    "import warnings\n",
    "warnings.filterwarnings('ignore')"
   ]
  },
  {
   "cell_type": "markdown",
   "metadata": {},
   "source": [
    "#### Importing Data"
   ]
  },
  {
   "cell_type": "code",
   "execution_count": 24,
   "metadata": {},
   "outputs": [],
   "source": [
    "#Ecoregion data from EPA\n",
    "ecoregions = gpd.read_file(\"us_eco_l3.shp\")"
   ]
  },
  {
   "cell_type": "code",
   "execution_count": 11,
   "metadata": {},
   "outputs": [],
   "source": [
    "#MTBS Wildfire data\n",
    "mtbs_fires = gpd.read_file(\"mtbs_fod_pts_DD.shp\")"
   ]
  },
  {
   "cell_type": "code",
   "execution_count": 8,
   "metadata": {},
   "outputs": [],
   "source": [
    "#Climate Monitor Locations\n",
    "metadata_col_specs = [(0,12),(12,21),(21,31),(31,38),(38,41),(41,72),(72,76),(76,80),(80,86)]\n",
    "\n",
    "metadata_names = [\"ID\",\"LATITUDE\",\"LONGITUDE\",\"ELEVATION\",\"STATE\",\"NAME\",\"GSN FLAG\",\"HCN/CRN FLAG\",\"WMO ID\"]\n",
    "\n",
    "metadata_dtype = {\"ID\": str, \"LATITUDE\": float, \"LONGITUDE\":float, \"ELEVATION\": float, \"STATE\": str,\"NAME\": str,\n",
    "    \"GSN FLAG\": str,\"HCN/CRN FLAG\": str,\"WMO ID\": str}\n",
    "\n",
    "def read_station_metadata(filename=\"ghcnd-stations.txt\"):\n",
    "    \"\"\"Reads in station metadata\n",
    "\n",
    "    :filename: ghcnd station metadata file.\n",
    "    :returns: station metadata as a pandas Dataframe\n",
    "\n",
    "    \"\"\"\n",
    "    df = pd.read_fwf(filename, metadata_col_specs, names=metadata_names, dtype=metadata_dtype)\n",
    "\n",
    "    return df\n",
    "\n",
    "monitors = read_station_metadata()"
   ]
  },
  {
   "cell_type": "markdown",
   "metadata": {},
   "source": [
    "#### Checking/Cleaning Data"
   ]
  },
  {
   "cell_type": "code",
   "execution_count": 25,
   "metadata": {},
   "outputs": [],
   "source": [
    "#Selecting columns from ecoregion data\n",
    "eco_join = ecoregions[['NA_L3NAME', 'NA_L2NAME', 'NA_L1NAME', 'geometry']]"
   ]
  },
  {
   "cell_type": "code",
   "execution_count": 20,
   "metadata": {},
   "outputs": [],
   "source": [
    "#Converting monitor dataframe to geodataframe\n",
    "monitor_geo = gpd.GeoDataFrame(\n",
    "    monitors, geometry=gpd.points_from_xy(monitors.LONGITUDE, monitors.LATITUDE))\n",
    "monitor_geo = monitor_geo.set_crs('EPSG:4269')"
   ]
  },
  {
   "cell_type": "code",
   "execution_count": 26,
   "metadata": {},
   "outputs": [
    {
     "name": "stdout",
     "output_type": "stream",
     "text": [
      "False\n",
      "True\n"
     ]
    }
   ],
   "source": [
    "#Checking to make sure Coordinate Reference Systems match\n",
    "print(eco_join.crs == mtbs_fires.crs)\n",
    "print(monitor_geo.crs == mtbs_fires.crs)"
   ]
  },
  {
   "cell_type": "code",
   "execution_count": 27,
   "metadata": {},
   "outputs": [],
   "source": [
    "#Matching the CRS of both Ecoregions and Monitors to the MTBS database\n",
    "eco_join = eco_join.to_crs(mtbs_fires.crs)\n",
    "monitor_geo = monitor_geo.to_crs(mtbs_fires.crs)"
   ]
  },
  {
   "cell_type": "code",
   "execution_count": 28,
   "metadata": {},
   "outputs": [
    {
     "name": "stdout",
     "output_type": "stream",
     "text": [
      "True\n",
      "True\n"
     ]
    }
   ],
   "source": [
    "print(eco_join.crs == mtbs_fires.crs)\n",
    "print(monitor_geo.crs == mtbs_fires.crs)"
   ]
  },
  {
   "cell_type": "markdown",
   "metadata": {},
   "source": [
    "#### Joining Data"
   ]
  },
  {
   "cell_type": "code",
   "execution_count": 29,
   "metadata": {},
   "outputs": [],
   "source": [
    "#Join MTBS and Ecoregions\n",
    "eco_mtbs = gpd.sjoin(mtbs_fires, eco_join, how='left', op='intersects')\n",
    "eco_mtbs.drop(columns=['geometry', 'index_right'], inplace=True)"
   ]
  },
  {
   "cell_type": "code",
   "execution_count": 42,
   "metadata": {},
   "outputs": [],
   "source": [
    "#Join Monitors and Ecoregions\n",
    "eco_monitor = gpd.sjoin(monitor_geo, eco_join, how='left', op='intersects')"
   ]
  },
  {
   "cell_type": "markdown",
   "metadata": {},
   "source": [
    "#### Sorting Joined Data"
   ]
  },
  {
   "cell_type": "code",
   "execution_count": 45,
   "metadata": {},
   "outputs": [
    {
     "data": {
      "text/html": [
       "<div>\n",
       "<style scoped>\n",
       "    .dataframe tbody tr th:only-of-type {\n",
       "        vertical-align: middle;\n",
       "    }\n",
       "\n",
       "    .dataframe tbody tr th {\n",
       "        vertical-align: top;\n",
       "    }\n",
       "\n",
       "    .dataframe thead th {\n",
       "        text-align: right;\n",
       "    }\n",
       "</style>\n",
       "<table border=\"1\" class=\"dataframe\">\n",
       "  <thead>\n",
       "    <tr style=\"text-align: right;\">\n",
       "      <th></th>\n",
       "      <th>ID</th>\n",
       "      <th>LATITUDE</th>\n",
       "      <th>LONGITUDE</th>\n",
       "      <th>ELEVATION</th>\n",
       "      <th>STATE</th>\n",
       "      <th>NA_L3NAME</th>\n",
       "      <th>NA_L2NAME</th>\n",
       "      <th>NA_L1NAME</th>\n",
       "    </tr>\n",
       "  </thead>\n",
       "  <tbody>\n",
       "    <tr>\n",
       "      <th>52427</th>\n",
       "      <td>US009052008</td>\n",
       "      <td>43.7333</td>\n",
       "      <td>-96.6333</td>\n",
       "      <td>482.0</td>\n",
       "      <td>SD</td>\n",
       "      <td>Western Corn Belt Plains</td>\n",
       "      <td>TEMPERATE PRAIRIES</td>\n",
       "      <td>GREAT PLAINS</td>\n",
       "    </tr>\n",
       "    <tr>\n",
       "      <th>52428</th>\n",
       "      <td>US10RMHS145</td>\n",
       "      <td>40.5268</td>\n",
       "      <td>-105.1113</td>\n",
       "      <td>1569.1</td>\n",
       "      <td>CO</td>\n",
       "      <td>High Plains</td>\n",
       "      <td>SOUTH CENTRAL SEMI-ARID PRAIRIES</td>\n",
       "      <td>GREAT PLAINS</td>\n",
       "    </tr>\n",
       "    <tr>\n",
       "      <th>52429</th>\n",
       "      <td>US10adam001</td>\n",
       "      <td>40.5680</td>\n",
       "      <td>-98.5069</td>\n",
       "      <td>598.0</td>\n",
       "      <td>NE</td>\n",
       "      <td>Central Great Plains</td>\n",
       "      <td>SOUTH CENTRAL SEMI-ARID PRAIRIES</td>\n",
       "      <td>GREAT PLAINS</td>\n",
       "    </tr>\n",
       "    <tr>\n",
       "      <th>52430</th>\n",
       "      <td>US10adam002</td>\n",
       "      <td>40.5093</td>\n",
       "      <td>-98.5493</td>\n",
       "      <td>601.1</td>\n",
       "      <td>NE</td>\n",
       "      <td>Central Great Plains</td>\n",
       "      <td>SOUTH CENTRAL SEMI-ARID PRAIRIES</td>\n",
       "      <td>GREAT PLAINS</td>\n",
       "    </tr>\n",
       "    <tr>\n",
       "      <th>52431</th>\n",
       "      <td>US10adam003</td>\n",
       "      <td>40.4663</td>\n",
       "      <td>-98.6537</td>\n",
       "      <td>615.1</td>\n",
       "      <td>NE</td>\n",
       "      <td>Central Great Plains</td>\n",
       "      <td>SOUTH CENTRAL SEMI-ARID PRAIRIES</td>\n",
       "      <td>GREAT PLAINS</td>\n",
       "    </tr>\n",
       "  </tbody>\n",
       "</table>\n",
       "</div>"
      ],
      "text/plain": [
       "                ID  LATITUDE  LONGITUDE  ELEVATION STATE  \\\n",
       "52427  US009052008   43.7333   -96.6333      482.0    SD   \n",
       "52428  US10RMHS145   40.5268  -105.1113     1569.1    CO   \n",
       "52429  US10adam001   40.5680   -98.5069      598.0    NE   \n",
       "52430  US10adam002   40.5093   -98.5493      601.1    NE   \n",
       "52431  US10adam003   40.4663   -98.6537      615.1    NE   \n",
       "\n",
       "                      NA_L3NAME                         NA_L2NAME  \\\n",
       "52427  Western Corn Belt Plains                TEMPERATE PRAIRIES   \n",
       "52428               High Plains  SOUTH CENTRAL SEMI-ARID PRAIRIES   \n",
       "52429      Central Great Plains  SOUTH CENTRAL SEMI-ARID PRAIRIES   \n",
       "52430      Central Great Plains  SOUTH CENTRAL SEMI-ARID PRAIRIES   \n",
       "52431      Central Great Plains  SOUTH CENTRAL SEMI-ARID PRAIRIES   \n",
       "\n",
       "          NA_L1NAME  \n",
       "52427  GREAT PLAINS  \n",
       "52428  GREAT PLAINS  \n",
       "52429  GREAT PLAINS  \n",
       "52430  GREAT PLAINS  \n",
       "52431  GREAT PLAINS  "
      ]
     },
     "execution_count": 45,
     "metadata": {},
     "output_type": "execute_result"
    }
   ],
   "source": [
    "#US only weather monitors\n",
    "eco_monitor_us = eco_monitor[eco_monitor['ID'].str.contains('US')]\n",
    "eco_monitor_us.drop(columns=['NAME', 'GSN FLAG', 'HCN/CRN FLAG', 'WMO ID', 'geometry', 'index_right'],\n",
    "                 inplace=True)\n",
    "eco_monitor_us.head()"
   ]
  },
  {
   "cell_type": "code",
   "execution_count": 49,
   "metadata": {},
   "outputs": [],
   "source": [
    "#creating a monitor database that have only monitors in ecoregions where fires have occured\n",
    "sub_regions_mtbs = eco_mtbs['NA_L3NAME'].unique()\n",
    "eco_monitor_mtbs = eco_monitor_us[eco_monitor_us['NA_L3NAME'].isin(sub_regions_mtbs)]"
   ]
  },
  {
   "cell_type": "markdown",
   "metadata": {},
   "source": [
    "#### Writing Data to CSVs"
   ]
  },
  {
   "cell_type": "code",
   "execution_count": 51,
   "metadata": {},
   "outputs": [],
   "source": [
    "eco_mtbs.to_csv('MTBS_and_Region.csv')"
   ]
  },
  {
   "cell_type": "code",
   "execution_count": 52,
   "metadata": {},
   "outputs": [],
   "source": [
    "eco_monitor_mtbs.to_csv('Monitor_by_Region.csv')"
   ]
  },
  {
   "cell_type": "code",
   "execution_count": null,
   "metadata": {},
   "outputs": [],
   "source": []
  }
 ],
 "metadata": {
  "kernelspec": {
   "display_name": "Python 3",
   "language": "python",
   "name": "python3"
  },
  "language_info": {
   "codemirror_mode": {
    "name": "ipython",
    "version": 3
   },
   "file_extension": ".py",
   "mimetype": "text/x-python",
   "name": "python",
   "nbconvert_exporter": "python",
   "pygments_lexer": "ipython3",
   "version": "3.8.3"
  }
 },
 "nbformat": 4,
 "nbformat_minor": 2
}
